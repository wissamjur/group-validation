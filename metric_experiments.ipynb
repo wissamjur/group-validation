{
 "cells": [
  {
   "cell_type": "code",
   "execution_count": 6,
   "metadata": {},
   "outputs": [],
   "source": [
    "import pandas as pd\n",
    "from helpers import (\n",
    "    get_user_genre_list,\n",
    "    get_user_max_likelihood,\n",
    "    get_ideal_rankings,\n",
    "    get_all_genres_list\n",
    ")\n",
    "\n",
    "test_data = pd.read_csv('output/test.csv')\n",
    "ratings = pd.read_csv('datasets/ml-latest-small/ratings.csv')\n",
    "movies = pd.read_csv('datasets/ml-latest-small/movies.csv')\n",
    "rankings = pd.read_csv('output/rankings.csv')\n",
    "\n",
    "# merge item data to the ratings df\n",
    "test_data_full = test_data.merge(movies, how='inner', on='movieId').sort_values(by='userId')\n",
    "ratings_full = ratings.merge(movies, how='inner', on='movieId').sort_values(by='userId')\n",
    "rankings_full = rankings.merge(movies, how='inner', on='movieId').sort_values(by='rank')\n",
    "\n",
    "# create a new column for the genres count\n",
    "test_data_full['count_genres'] = test_data_full.apply(lambda x: len(x['genres'].split('|')), axis=1)"
   ]
  },
  {
   "cell_type": "code",
   "execution_count": 2,
   "metadata": {},
   "outputs": [
    {
     "data": {
      "text/html": [
       "<div>\n",
       "<style scoped>\n",
       "    .dataframe tbody tr th:only-of-type {\n",
       "        vertical-align: middle;\n",
       "    }\n",
       "\n",
       "    .dataframe tbody tr th {\n",
       "        vertical-align: top;\n",
       "    }\n",
       "\n",
       "    .dataframe thead th {\n",
       "        text-align: right;\n",
       "    }\n",
       "</style>\n",
       "<table border=\"1\" class=\"dataframe\">\n",
       "  <thead>\n",
       "    <tr style=\"text-align: right;\">\n",
       "      <th></th>\n",
       "      <th>userId</th>\n",
       "      <th>movieId</th>\n",
       "      <th>rating</th>\n",
       "      <th>title</th>\n",
       "      <th>genres</th>\n",
       "      <th>count_genres</th>\n",
       "    </tr>\n",
       "  </thead>\n",
       "  <tbody>\n",
       "    <tr>\n",
       "      <th>18173</th>\n",
       "      <td>2</td>\n",
       "      <td>89774</td>\n",
       "      <td>5.0</td>\n",
       "      <td>Warrior (2011)</td>\n",
       "      <td>Drama</td>\n",
       "      <td>1</td>\n",
       "    </tr>\n",
       "    <tr>\n",
       "      <th>14240</th>\n",
       "      <td>2</td>\n",
       "      <td>112552</td>\n",
       "      <td>4.0</td>\n",
       "      <td>Whiplash (2014)</td>\n",
       "      <td>Drama</td>\n",
       "      <td>1</td>\n",
       "    </tr>\n",
       "    <tr>\n",
       "      <th>6468</th>\n",
       "      <td>2</td>\n",
       "      <td>48516</td>\n",
       "      <td>4.0</td>\n",
       "      <td>Departed, The (2006)</td>\n",
       "      <td>Crime|Drama|Thriller</td>\n",
       "      <td>3</td>\n",
       "    </tr>\n",
       "    <tr>\n",
       "      <th>20210</th>\n",
       "      <td>2</td>\n",
       "      <td>99114</td>\n",
       "      <td>3.5</td>\n",
       "      <td>Django Unchained (2012)</td>\n",
       "      <td>Action|Drama|Western</td>\n",
       "      <td>3</td>\n",
       "    </tr>\n",
       "  </tbody>\n",
       "</table>\n",
       "</div>"
      ],
      "text/plain": [
       "       userId  movieId  rating                    title                genres  \\\n",
       "18173       2    89774     5.0           Warrior (2011)                 Drama   \n",
       "14240       2   112552     4.0          Whiplash (2014)                 Drama   \n",
       "6468        2    48516     4.0     Departed, The (2006)  Crime|Drama|Thriller   \n",
       "20210       2    99114     3.5  Django Unchained (2012)  Action|Drama|Western   \n",
       "\n",
       "       count_genres  \n",
       "18173             1  \n",
       "14240             1  \n",
       "6468              3  \n",
       "20210             3  "
      ]
     },
     "execution_count": 2,
     "metadata": {},
     "output_type": "execute_result"
    }
   ],
   "source": [
    "test_data_full[test_data_full['userId'] == 2]"
   ]
  },
  {
   "cell_type": "code",
   "execution_count": 3,
   "metadata": {},
   "outputs": [],
   "source": [
    "user_id = 2\n",
    "k = 4\n",
    "\n",
    "top_k_ideal = get_ideal_rankings(user_id, test_data_full, k)"
   ]
  },
  {
   "cell_type": "code",
   "execution_count": 4,
   "metadata": {},
   "outputs": [
    {
     "data": {
      "text/plain": [
       "[(2, 89774, 5.0), (2, 48516, 4.0), (2, 112552, 4.0), (2, 99114, 3.5)]"
      ]
     },
     "execution_count": 4,
     "metadata": {},
     "output_type": "execute_result"
    }
   ],
   "source": [
    "top_k_ideal"
   ]
  },
  {
   "cell_type": "code",
   "execution_count": 10,
   "metadata": {},
   "outputs": [
    {
     "data": {
      "text/plain": [
       "['Action',\n",
       " 'Mystery',\n",
       " 'Children',\n",
       " 'Fantasy',\n",
       " 'Drama',\n",
       " 'Horror',\n",
       " 'Musical',\n",
       " 'Adventure',\n",
       " 'Comedy',\n",
       " 'Sci-Fi',\n",
       " 'Western',\n",
       " 'War',\n",
       " 'Film-Noir',\n",
       " 'Documentary',\n",
       " 'Animation',\n",
       " 'Romance',\n",
       " 'Thriller',\n",
       " 'IMAX',\n",
       " 'Crime']"
      ]
     },
     "execution_count": 10,
     "metadata": {},
     "output_type": "execute_result"
    }
   ],
   "source": [
    "genres = get_all_genres_list(ratings_full)\n",
    "genres"
   ]
  },
  {
   "cell_type": "code",
   "execution_count": 11,
   "metadata": {},
   "outputs": [
    {
     "data": {
      "text/plain": [
       "0.1111111111111111"
      ]
     },
     "execution_count": 11,
     "metadata": {},
     "output_type": "execute_result"
    }
   ],
   "source": [
    "gamma = get_user_max_likelihood(user_id, 'Action', test_data_full)\n",
    "gamma"
   ]
  },
  {
   "cell_type": "code",
   "execution_count": null,
   "metadata": {},
   "outputs": [],
   "source": [
    "rankings_full[rankings_full['userId'] == 2]\n"
   ]
  }
 ],
 "metadata": {
  "kernelspec": {
   "display_name": "Python 3.10.4 ('group-validation')",
   "language": "python",
   "name": "python3"
  },
  "language_info": {
   "codemirror_mode": {
    "name": "ipython",
    "version": 3
   },
   "file_extension": ".py",
   "mimetype": "text/x-python",
   "name": "python",
   "nbconvert_exporter": "python",
   "pygments_lexer": "ipython3",
   "version": "3.8.13"
  },
  "orig_nbformat": 4,
  "vscode": {
   "interpreter": {
    "hash": "52445fb09f682e9366639e37a6414f541c6481f599d97ed36cba6ef55ea50917"
   }
  }
 },
 "nbformat": 4,
 "nbformat_minor": 2
}
