{
 "cells": [
  {
   "cell_type": "code",
   "execution_count": 1,
   "metadata": {},
   "outputs": [],
   "source": [
    "import pickle\n",
    "import numpy as np\n",
    "import pandas as pd\n",
    "import math\n",
    "from helpers.dataset_helpers import get_genres_as_columns, get_all_genres_list\n",
    "from metric.helpers import (\n",
    "    get_user_genre_list,\n",
    "    get_user_max_likelihood,\n",
    "    get_ideal_rankings,\n",
    "    build_all_likelihood_dict\n",
    ")\n",
    "\n",
    "# data from recommender\n",
    "testset = pd.read_csv('output/test.csv')\n",
    "trainset = pd.read_csv('output/train.csv')\n",
    "rankings = pd.read_csv('output/rankings.csv')\n",
    "\n",
    "# original data from the dataset\n",
    "ratings = pd.read_csv('datasets/ml-latest-small/ratings.csv')\n",
    "movies = pd.read_csv('datasets/ml-latest-small/movies.csv')\n",
    "\n",
    "# merge item data to the ratings df\n",
    "test_df = testset.merge(movies, how='inner', on='movieId').sort_values(by='userId')\n",
    "ratings_df = ratings.merge(movies, how='inner', on='movieId').sort_values(by='userId')\n",
    "rankings_df = rankings.merge(movies, how='inner', on='movieId').sort_values(by='rank').drop('title', axis=1)\n",
    "\n",
    "# create a new column for the genres count\n",
    "test_df['count_genres'] = test_df.apply(lambda x: len(x['genres'].split('|')), axis=1)\n",
    "\n",
    "# get all unique genres and users\n",
    "genres = get_all_genres_list(ratings_df)\n",
    "users = list(set(ratings_df.userId.to_list()))\n",
    "\n",
    "# merge rankings with the real ratings\n",
    "rankings_hits = rankings_df.merge(ratings_df, how='left', on=['userId', 'movieId', 'genres']).sort_values(by=['userId', 'rank'])\n",
    "rankings_hits = rankings_hits.drop(['title', 'timestamp'], axis=1)\n",
    "\n",
    "# build the likelihood dict (dictionary will be saved in ./output)\n",
    "# build it once per dataset\n",
    "# build_all_likelihood_dict(users, genres, ratings_df)\n",
    "# load user likelihood data\n",
    "with open(\"./output/data.pkl\", \"rb\") as pkl_handle:\n",
    "\tlikelihood_dict = pickle.load(pkl_handle)"
   ]
  },
  {
   "cell_type": "markdown",
   "metadata": {},
   "source": [
    "## Examples"
   ]
  },
  {
   "cell_type": "code",
   "execution_count": 2,
   "metadata": {},
   "outputs": [
    {
     "data": {
      "text/plain": [
       "0.14897260273972604"
      ]
     },
     "execution_count": 2,
     "metadata": {},
     "output_type": "execute_result"
    }
   ],
   "source": [
    "# get user likelihood value example\n",
    "user_id = 2\n",
    "target_genre = 'Action'\n",
    "\n",
    "get_user_max_likelihood(user_id, target_genre, genres, ratings_df)\n",
    "# user offline dict for likelihood\n",
    "likelihood_dict[target_genre][user_id - 1][1]"
   ]
  },
  {
   "cell_type": "code",
   "execution_count": 27,
   "metadata": {},
   "outputs": [],
   "source": [
    "ideal_rankings = []\n",
    "# get ideal rankings example\n",
    "for user in users:\n",
    "    user_ideal_ranks = get_ideal_rankings(user, likelihood_dict, test_df, k=3)\n",
    "    df = pd.DataFrame(user_ideal_ranks, columns=[\"userId\", \"movieId\", \"prediction\", \"rank\"])\n",
    "    ideal_rankings.append(df)\n",
    "\n",
    "user_ideal_ranks_df = pd.concat(ideal_rankings)\n",
    "\n",
    "# merge item data to the ratings df and then left joing to get real ratings\n",
    "user_ideal_ranks_df = user_ideal_ranks_df.merge(movies, how='inner', on='movieId').sort_values(by='userId')\n",
    "user_ideal_ranks_df = user_ideal_ranks_df.merge(ratings_df, how='left', on=['userId', 'movieId', 'genres', 'title']).sort_values(by=['userId', 'rank'])\n",
    "user_ideal_ranks_df = user_ideal_ranks_df.drop(['title', 'timestamp'], axis=1)"
   ]
  },
  {
   "cell_type": "code",
   "execution_count": 28,
   "metadata": {},
   "outputs": [
    {
     "data": {
      "text/html": [
       "<div>\n",
       "<style scoped>\n",
       "    .dataframe tbody tr th:only-of-type {\n",
       "        vertical-align: middle;\n",
       "    }\n",
       "\n",
       "    .dataframe tbody tr th {\n",
       "        vertical-align: top;\n",
       "    }\n",
       "\n",
       "    .dataframe thead th {\n",
       "        text-align: right;\n",
       "    }\n",
       "</style>\n",
       "<table border=\"1\" class=\"dataframe\">\n",
       "  <thead>\n",
       "    <tr style=\"text-align: right;\">\n",
       "      <th></th>\n",
       "      <th>userId</th>\n",
       "      <th>movieId</th>\n",
       "      <th>prediction</th>\n",
       "      <th>rank</th>\n",
       "      <th>genres</th>\n",
       "      <th>rating</th>\n",
       "    </tr>\n",
       "  </thead>\n",
       "  <tbody>\n",
       "    <tr>\n",
       "      <th>0</th>\n",
       "      <td>1</td>\n",
       "      <td>1617</td>\n",
       "      <td>5.0</td>\n",
       "      <td>1</td>\n",
       "      <td>Crime|Film-Noir|Mystery|Thriller</td>\n",
       "      <td>5.0</td>\n",
       "    </tr>\n",
       "    <tr>\n",
       "      <th>1</th>\n",
       "      <td>1</td>\n",
       "      <td>3671</td>\n",
       "      <td>5.0</td>\n",
       "      <td>2</td>\n",
       "      <td>Comedy|Western</td>\n",
       "      <td>5.0</td>\n",
       "    </tr>\n",
       "    <tr>\n",
       "      <th>2</th>\n",
       "      <td>1</td>\n",
       "      <td>2459</td>\n",
       "      <td>5.0</td>\n",
       "      <td>3</td>\n",
       "      <td>Horror</td>\n",
       "      <td>5.0</td>\n",
       "    </tr>\n",
       "    <tr>\n",
       "      <th>5</th>\n",
       "      <td>2</td>\n",
       "      <td>89774</td>\n",
       "      <td>5.0</td>\n",
       "      <td>1</td>\n",
       "      <td>Drama</td>\n",
       "      <td>5.0</td>\n",
       "    </tr>\n",
       "    <tr>\n",
       "      <th>4</th>\n",
       "      <td>2</td>\n",
       "      <td>48516</td>\n",
       "      <td>4.0</td>\n",
       "      <td>2</td>\n",
       "      <td>Crime|Drama|Thriller</td>\n",
       "      <td>4.0</td>\n",
       "    </tr>\n",
       "  </tbody>\n",
       "</table>\n",
       "</div>"
      ],
      "text/plain": [
       "   userId  movieId  prediction  rank                            genres  rating\n",
       "0       1     1617         5.0     1  Crime|Film-Noir|Mystery|Thriller     5.0\n",
       "1       1     3671         5.0     2                    Comedy|Western     5.0\n",
       "2       1     2459         5.0     3                            Horror     5.0\n",
       "5       2    89774         5.0     1                             Drama     5.0\n",
       "4       2    48516         4.0     2              Crime|Drama|Thriller     4.0"
      ]
     },
     "execution_count": 28,
     "metadata": {},
     "output_type": "execute_result"
    }
   ],
   "source": [
    "user_ideal_ranks_df.head()"
   ]
  },
  {
   "cell_type": "markdown",
   "metadata": {},
   "source": [
    "## alpha-beta-nDCG"
   ]
  },
  {
   "cell_type": "code",
   "execution_count": 31,
   "metadata": {},
   "outputs": [
    {
     "data": {
      "text/html": [
       "<div>\n",
       "<style scoped>\n",
       "    .dataframe tbody tr th:only-of-type {\n",
       "        vertical-align: middle;\n",
       "    }\n",
       "\n",
       "    .dataframe tbody tr th {\n",
       "        vertical-align: top;\n",
       "    }\n",
       "\n",
       "    .dataframe thead th {\n",
       "        text-align: right;\n",
       "    }\n",
       "</style>\n",
       "<table border=\"1\" class=\"dataframe\">\n",
       "  <thead>\n",
       "    <tr style=\"text-align: right;\">\n",
       "      <th></th>\n",
       "      <th>userId</th>\n",
       "      <th>movieId</th>\n",
       "      <th>prediction</th>\n",
       "      <th>rank</th>\n",
       "      <th>genres</th>\n",
       "      <th>rating</th>\n",
       "      <th>IMAX</th>\n",
       "      <th>Action</th>\n",
       "      <th>Thriller</th>\n",
       "      <th>Horror</th>\n",
       "      <th>...</th>\n",
       "      <th>Adventure</th>\n",
       "      <th>Children</th>\n",
       "      <th>Romance</th>\n",
       "      <th>Film-Noir</th>\n",
       "      <th>Musical</th>\n",
       "      <th>Fantasy</th>\n",
       "      <th>Documentary</th>\n",
       "      <th>War</th>\n",
       "      <th>Comedy</th>\n",
       "      <th>DCG</th>\n",
       "    </tr>\n",
       "  </thead>\n",
       "  <tbody>\n",
       "    <tr>\n",
       "      <th>5</th>\n",
       "      <td>2</td>\n",
       "      <td>89774</td>\n",
       "      <td>5.0</td>\n",
       "      <td>1</td>\n",
       "      <td>Drama</td>\n",
       "      <td>5.0</td>\n",
       "      <td>0.0</td>\n",
       "      <td>0.0</td>\n",
       "      <td>0.0</td>\n",
       "      <td>0.0</td>\n",
       "      <td>...</td>\n",
       "      <td>0.0</td>\n",
       "      <td>0.0</td>\n",
       "      <td>0.0</td>\n",
       "      <td>0.0</td>\n",
       "      <td>0.0</td>\n",
       "      <td>0.0</td>\n",
       "      <td>0.0</td>\n",
       "      <td>0.0</td>\n",
       "      <td>0.0</td>\n",
       "      <td>0.113014</td>\n",
       "    </tr>\n",
       "    <tr>\n",
       "      <th>4</th>\n",
       "      <td>2</td>\n",
       "      <td>48516</td>\n",
       "      <td>4.0</td>\n",
       "      <td>2</td>\n",
       "      <td>Crime|Drama|Thriller</td>\n",
       "      <td>4.0</td>\n",
       "      <td>0.0</td>\n",
       "      <td>0.0</td>\n",
       "      <td>4.0</td>\n",
       "      <td>0.0</td>\n",
       "      <td>...</td>\n",
       "      <td>0.0</td>\n",
       "      <td>0.0</td>\n",
       "      <td>0.0</td>\n",
       "      <td>0.0</td>\n",
       "      <td>0.0</td>\n",
       "      <td>0.0</td>\n",
       "      <td>0.0</td>\n",
       "      <td>0.0</td>\n",
       "      <td>0.0</td>\n",
       "      <td>0.086893</td>\n",
       "    </tr>\n",
       "    <tr>\n",
       "      <th>3</th>\n",
       "      <td>2</td>\n",
       "      <td>112552</td>\n",
       "      <td>4.0</td>\n",
       "      <td>3</td>\n",
       "      <td>Drama</td>\n",
       "      <td>4.0</td>\n",
       "      <td>0.0</td>\n",
       "      <td>0.0</td>\n",
       "      <td>0.0</td>\n",
       "      <td>0.0</td>\n",
       "      <td>...</td>\n",
       "      <td>0.0</td>\n",
       "      <td>0.0</td>\n",
       "      <td>0.0</td>\n",
       "      <td>0.0</td>\n",
       "      <td>0.0</td>\n",
       "      <td>0.0</td>\n",
       "      <td>0.0</td>\n",
       "      <td>0.0</td>\n",
       "      <td>0.0</td>\n",
       "      <td>0.010930</td>\n",
       "    </tr>\n",
       "  </tbody>\n",
       "</table>\n",
       "<p>3 rows × 26 columns</p>\n",
       "</div>"
      ],
      "text/plain": [
       "   userId  movieId  prediction  rank                genres  rating  IMAX  \\\n",
       "5       2    89774         5.0     1                 Drama     5.0   0.0   \n",
       "4       2    48516         4.0     2  Crime|Drama|Thriller     4.0   0.0   \n",
       "3       2   112552         4.0     3                 Drama     4.0   0.0   \n",
       "\n",
       "   Action  Thriller  Horror  ...  Adventure  Children  Romance  Film-Noir  \\\n",
       "5     0.0       0.0     0.0  ...        0.0       0.0      0.0        0.0   \n",
       "4     0.0       4.0     0.0  ...        0.0       0.0      0.0        0.0   \n",
       "3     0.0       0.0     0.0  ...        0.0       0.0      0.0        0.0   \n",
       "\n",
       "   Musical  Fantasy  Documentary  War  Comedy       DCG  \n",
       "5      0.0      0.0          0.0  0.0     0.0  0.113014  \n",
       "4      0.0      0.0          0.0  0.0     0.0  0.086893  \n",
       "3      0.0      0.0          0.0  0.0     0.0  0.010930  \n",
       "\n",
       "[3 rows x 26 columns]"
      ]
     },
     "execution_count": 31,
     "metadata": {},
     "output_type": "execute_result"
    }
   ],
   "source": [
    "from metric.metric import transform_rankings_hits, get_user_dcg, get_dcg\n",
    "\n",
    "rankings_hits_transformed = transform_rankings_hits(rankings_hits, genres)\n",
    "rankings_hits_transformed_ideal = transform_rankings_hits(user_ideal_ranks_df, genres)\n",
    "\n",
    "user_id = 2\n",
    "k = 3\n",
    "user_dcg = get_user_dcg(user_id, rankings_hits_transformed, ratings_df, likelihood_dict, k)\n",
    "user_idcg = get_user_dcg(user_id, rankings_hits_transformed_ideal, ratings_df, likelihood_dict, k)\n",
    "user_idcg"
   ]
  },
  {
   "cell_type": "code",
   "execution_count": 33,
   "metadata": {},
   "outputs": [],
   "source": [
    "dcg = get_dcg(rankings_hits_transformed, ratings_df, likelihood_dict, k)"
   ]
  },
  {
   "cell_type": "code",
   "execution_count": 32,
   "metadata": {},
   "outputs": [],
   "source": [
    "idcg = get_dcg(rankings_hits_transformed_ideal, ratings_df, likelihood_dict, k)"
   ]
  },
  {
   "cell_type": "code",
   "execution_count": 36,
   "metadata": {},
   "outputs": [
    {
     "data": {
      "text/plain": [
       "0.32089282205081354"
      ]
     },
     "execution_count": 36,
     "metadata": {},
     "output_type": "execute_result"
    }
   ],
   "source": [
    "dcg/idcg"
   ]
  }
 ],
 "metadata": {
  "kernelspec": {
   "display_name": "Python 3.10.4 ('group-validation')",
   "language": "python",
   "name": "python3"
  },
  "language_info": {
   "codemirror_mode": {
    "name": "ipython",
    "version": 3
   },
   "file_extension": ".py",
   "mimetype": "text/x-python",
   "name": "python",
   "nbconvert_exporter": "python",
   "pygments_lexer": "ipython3",
   "version": "3.8.13"
  },
  "orig_nbformat": 4,
  "vscode": {
   "interpreter": {
    "hash": "52445fb09f682e9366639e37a6414f541c6481f599d97ed36cba6ef55ea50917"
   }
  }
 },
 "nbformat": 4,
 "nbformat_minor": 2
}
