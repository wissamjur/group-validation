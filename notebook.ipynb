{
 "cells": [
  {
   "cell_type": "code",
   "execution_count": null,
   "metadata": {},
   "outputs": [],
   "source": [
    "import pandas as pd\n",
    "from helpers import (\n",
    "    get_user_genre_list,\n",
    "    get_user_max_likelihood,\n",
    "    get_ideal_rankings\n",
    ")\n",
    "\n",
    "ratings = pd.read_csv('datasets/ml-latest-small/ratings.csv')\n",
    "movies = pd.read_csv('datasets/ml-latest-small/movies.csv')\n",
    "\n",
    "# merge item data to the ratings df\n",
    "full_dataset = ratings.merge(movies, how='inner', on='movieId').sort_values(by='userId')\n",
    "\n",
    "# create a new column for the genres count\n",
    "full_dataset['count_genres'] = full_dataset.apply(lambda x: len(x['genres'].split('|')), axis=1)"
   ]
  },
  {
   "cell_type": "code",
   "execution_count": null,
   "metadata": {},
   "outputs": [],
   "source": [
    "user_id = 1\n",
    "k = 10\n",
    "\n",
    "user = full_dataset[full_dataset['userId'] == user_id]\n",
    "top_k_ideal = get_ideal_rankings(user_id, full_dataset, k)"
   ]
  },
  {
   "cell_type": "code",
   "execution_count": null,
   "metadata": {},
   "outputs": [],
   "source": [
    "top_k_ideal"
   ]
  }
 ],
 "metadata": {
  "kernelspec": {
   "display_name": "Python 3.10.4 ('group-validation')",
   "language": "python",
   "name": "python3"
  },
  "language_info": {
   "codemirror_mode": {
    "name": "ipython",
    "version": 3
   },
   "file_extension": ".py",
   "mimetype": "text/x-python",
   "name": "python",
   "nbconvert_exporter": "python",
   "pygments_lexer": "ipython3",
   "version": "3.10.4"
  },
  "orig_nbformat": 4,
  "vscode": {
   "interpreter": {
    "hash": "52445fb09f682e9366639e37a6414f541c6481f599d97ed36cba6ef55ea50917"
   }
  }
 },
 "nbformat": 4,
 "nbformat_minor": 2
}
