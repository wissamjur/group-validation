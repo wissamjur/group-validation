{
 "cells": [
  {
   "cell_type": "markdown",
   "metadata": {},
   "source": [
    "This notebook is to clean the datasets we want to run simulation on following a set of defined rules:\\\n",
    "1- Only take users who have at least k amount of ratings. k is set to 50 in our experiments.\\\n",
    "2- Remove any repititions in the dataset. Every user can have only one rating on a certain item."
   ]
  },
  {
   "cell_type": "code",
   "execution_count": null,
   "metadata": {},
   "outputs": [],
   "source": [
    "import os\n",
    "\n",
    "# change dir for custom imports\n",
    "os.chdir('../')"
   ]
  },
  {
   "cell_type": "code",
   "execution_count": null,
   "metadata": {},
   "outputs": [],
   "source": [
    "import pandas as pd\n",
    "\n",
    "dataset_name = 'ml-1m'\n",
    "\n",
    "ratings = pd.read_csv('datasets/' + dataset_name + '/ratings.csv')"
   ]
  },
  {
   "cell_type": "code",
   "execution_count": null,
   "metadata": {},
   "outputs": [],
   "source": [
    "# check if there are any dupicates (there shouldn't be any duplicate ratings)\n",
    "ratings.groupby(['userId', 'movieId']).size().sort_values(ascending=False).reset_index(name='count') "
   ]
  },
  {
   "cell_type": "code",
   "execution_count": null,
   "metadata": {},
   "outputs": [],
   "source": [
    "total_ratings_df = ratings.groupby(['userId']).size().sort_values(ascending=False).reset_index(name='count')\n",
    "final_users_list = total_ratings_df[total_ratings_df['count'] >= 50].userId.to_list()\n",
    "\n",
    "ratings_df_final = ratings[ratings.userId.isin(final_users_list)]\n",
    "ratings_df_final.to_csv('datasets/' + dataset_name + '/clean/ratings.csv', index=False)"
   ]
  }
 ],
 "metadata": {
  "kernelspec": {
   "display_name": "Python 3.8.13 64-bit",
   "language": "python",
   "name": "python3"
  },
  "language_info": {
   "codemirror_mode": {
    "name": "ipython",
    "version": 3
   },
   "file_extension": ".py",
   "mimetype": "text/x-python",
   "name": "python",
   "nbconvert_exporter": "python",
   "pygments_lexer": "ipython3",
   "version": "3.8.13"
  },
  "orig_nbformat": 4,
  "vscode": {
   "interpreter": {
    "hash": "52445fb09f682e9366639e37a6414f541c6481f599d97ed36cba6ef55ea50917"
   }
  }
 },
 "nbformat": 4,
 "nbformat_minor": 2
}
