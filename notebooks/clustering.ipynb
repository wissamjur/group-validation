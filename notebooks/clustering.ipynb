{
 "cells": [
  {
   "cell_type": "markdown",
   "metadata": {},
   "source": [
    "This notebook is to cluster users in a given recommender dataset into groups using *k-means*.\\\n",
    "Currently the total number of clusters is manually defined through the variable k in block two.\\\n",
    "The final result is saved as .csv in the output dir"
   ]
  },
  {
   "cell_type": "code",
   "execution_count": null,
   "metadata": {},
   "outputs": [],
   "source": [
    "import os\n",
    "\n",
    "# change dir for custom imports\n",
    "os.chdir('../')"
   ]
  },
  {
   "cell_type": "code",
   "execution_count": null,
   "metadata": {},
   "outputs": [],
   "source": [
    "import pandas as pd\n",
    "\n",
    "dataset_name = 'ml-1m'\n",
    "\n",
    "ratings = pd.read_csv('datasets/' + dataset_name + '/clean/ratings.csv')\n",
    "movies = pd.read_csv('datasets/' + dataset_name + '/movies.csv', encoding='latin-1')\n",
    "ratings_detailed = pd.merge(ratings, movies, how='inner', on='movieId').sort_values(by='userId')\n",
    "ratings_detailed.head()"
   ]
  },
  {
   "cell_type": "code",
   "execution_count": null,
   "metadata": {},
   "outputs": [],
   "source": [
    "from clustering.helpers import transform_df\n",
    "from clustering.kmeans import create_clsuters\n",
    "\n",
    "# number of clusters\n",
    "k = 100\n",
    "\n",
    "# use k means to cluster the users in the dataset\n",
    "transformed_df = transform_df(ratings_detailed)\n",
    "ratings_clustered = create_clsuters(k, transformed_df)\n",
    "ratings_clustered"
   ]
  },
  {
   "cell_type": "code",
   "execution_count": null,
   "metadata": {},
   "outputs": [],
   "source": [
    "ratings_clustered.to_csv('output/' + dataset_name + '/clusters.csv', index=False)"
   ]
  },
  {
   "cell_type": "markdown",
   "metadata": {},
   "source": [
    "# Load clusters"
   ]
  },
  {
   "cell_type": "code",
   "execution_count": null,
   "metadata": {},
   "outputs": [],
   "source": [
    "import pandas as pd\n",
    "\n",
    "clusters = pd.read_csv('output/' + dataset_name + '/clusters.csv')"
   ]
  },
  {
   "cell_type": "code",
   "execution_count": null,
   "metadata": {},
   "outputs": [],
   "source": [
    "cluster_id = 20\n",
    "\n",
    "# unique users in a certain cluster c\n",
    "x = list(set(clusters[clusters['cluster'] == cluster_id].userId.to_list()))\n",
    "x"
   ]
  },
  {
   "cell_type": "code",
   "execution_count": null,
   "metadata": {},
   "outputs": [],
   "source": [
    "clusters[clusters[\"cluster\"] == 20]"
   ]
  }
 ],
 "metadata": {
  "kernelspec": {
   "display_name": "group-validation",
   "language": "python",
   "name": "python3"
  },
  "language_info": {
   "codemirror_mode": {
    "name": "ipython",
    "version": 3
   },
   "file_extension": ".py",
   "mimetype": "text/x-python",
   "name": "python",
   "nbconvert_exporter": "python",
   "pygments_lexer": "ipython3",
   "version": "3.9.0"
  },
  "orig_nbformat": 4,
  "vscode": {
   "interpreter": {
    "hash": "e4bfbead4e2efcc94ee2a715a30957ed380184240733e2fa0165fb50dafa7065"
   }
  }
 },
 "nbformat": 4,
 "nbformat_minor": 2
}
