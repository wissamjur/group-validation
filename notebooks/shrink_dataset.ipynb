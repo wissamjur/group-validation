{
 "cells": [
  {
   "cell_type": "markdown",
   "metadata": {},
   "source": [
    "Use this notebook to shrink datasets like the ml-latest and the ml-25M. \\\n",
    "Shrinking is done based on users (unique user Ids). So, we select the range of userIds to consider in the new small dataset.\n",
    "\n",
    "Another approach (2nd code block) is to take user Ids at random within a certain range. \\\n",
    "This approach would be a better representation of the original dataset."
   ]
  },
  {
   "cell_type": "code",
   "execution_count": null,
   "metadata": {},
   "outputs": [],
   "source": [
    "import os\n",
    "\n",
    "# change dir for custom imports\n",
    "os.chdir('../')"
   ]
  },
  {
   "cell_type": "code",
   "execution_count": null,
   "metadata": {},
   "outputs": [],
   "source": [
    "import pandas as pd\n",
    "\n",
    "dataset_name = 'ml-25m'\n",
    "\n",
    "ratings = pd.read_csv('datasets/' + dataset_name + '/ratings.csv')\n",
    "movies = pd.read_csv('datasets/' + dataset_name + '/movies.csv')\n",
    "\n",
    "# define the users to extract from the dataset (1 -> n)\n",
    "target_users = list(range(1, 500))\n",
    "ratings_small = ratings[ratings.userId.isin(target_users)]\n",
    "ratings_small.to_csv('datasets/' + dataset_name + '/shrunk/ratings_small_v2.csv', index=False)"
   ]
  },
  {
   "cell_type": "code",
   "execution_count": null,
   "metadata": {},
   "outputs": [],
   "source": [
    "import pandas as pd\n",
    "import random\n",
    "\n",
    "dataset_name = 'ml-25m'\n",
    "\n",
    "ratings = pd.read_csv('datasets/' + dataset_name + '/ratings.csv')\n",
    "movies = pd.read_csv('datasets/' + dataset_name + '/movies.csv')\n",
    "max_users = len(set(ratings.userId.to_list()))\n",
    "\n",
    "# this will return a list of N numbers selected from the range 1 to max userId, without duplicates.\n",
    "target_users = random.sample(range(max_users), 1500)\n",
    "\n",
    "ratings_small = ratings[ratings.userId.isin(target_users)]\n",
    "ratings_small.reset_index(drop=True)\n",
    "ratings_small.to_csv('datasets/' + dataset_name + '/shrunk/ratings_small_v2.csv', index=False)"
   ]
  }
 ],
 "metadata": {
  "kernelspec": {
   "display_name": "Python 3.8.13 64-bit ('group-validation')",
   "language": "python",
   "name": "python3"
  },
  "language_info": {
   "codemirror_mode": {
    "name": "ipython",
    "version": 3
   },
   "file_extension": ".py",
   "mimetype": "text/x-python",
   "name": "python",
   "nbconvert_exporter": "python",
   "pygments_lexer": "ipython3",
   "version": "3.8.13"
  },
  "orig_nbformat": 4,
  "vscode": {
   "interpreter": {
    "hash": "52445fb09f682e9366639e37a6414f541c6481f599d97ed36cba6ef55ea50917"
   }
  }
 },
 "nbformat": 4,
 "nbformat_minor": 2
}
