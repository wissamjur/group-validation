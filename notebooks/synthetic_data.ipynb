{
 "cells": [
  {
   "cell_type": "markdown",
   "metadata": {},
   "source": [
    "This notebook is used to add synthetic data to datasets.\\\n",
    "The current implemented method is adding random ratings to a target user in a target cluster.\n",
    "\n",
    "We can take target users from a certain cluster based on the result of the previous notebook (clustering.ipynb) and use this code to generate random ratings for few users inside a given cluster. This simulates an opt-out (or any other data manipulation scenario) scenario."
   ]
  },
  {
   "cell_type": "code",
   "execution_count": 1,
   "metadata": {},
   "outputs": [],
   "source": [
    "import os\n",
    "\n",
    "# change dir for custom imports\n",
    "os.chdir('../')"
   ]
  },
  {
   "cell_type": "code",
   "execution_count": 2,
   "metadata": {},
   "outputs": [
    {
     "name": "stdout",
     "output_type": "stream",
     "text": [
      "total_movies:\t9633.000000\n",
      "total_ratings:\t93812.000000\n",
      "max_rating:\t5.000000\n",
      "min_rating:\t0.500000\n",
      "clusters\t50.000000\n"
     ]
    }
   ],
   "source": [
    "import pandas as pd\n",
    "\n",
    "dataset_name = 'ml-latest-small'\n",
    "\n",
    "ratings = pd.read_csv('datasets/' + dataset_name + '/clean/ratings.csv')\n",
    "movies = pd.read_csv('datasets/' + dataset_name + '/movies.csv', encoding='latin-1')\n",
    "clusters = pd.read_csv('output/' + dataset_name + '/clusters.csv')\n",
    "\n",
    "ratings_detailed = pd.merge(ratings, movies, how='inner', on='movieId').sort_values(by='userId')\n",
    "ratings_detailed = pd.merge(ratings_detailed, clusters, how='inner', on=['userId', 'movieId', 'rating', 'timestamp'])\n",
    "\n",
    "total_movies = len(list(set(ratings.movieId.to_list())))\n",
    "max_rating = max(list(set(ratings.rating.to_list())))\n",
    "min_rating = min(list(set(ratings.rating.to_list())))\n",
    "total_clusters = len(set(clusters.cluster.to_list()))\n",
    "total_ratings = len(ratings)\n",
    "\n",
    "print(\n",
    "    \"total_movies:\\t%f\" % total_movies,\n",
    "    \"total_ratings:\\t%f\" % total_ratings,\n",
    "    \"max_rating:\\t%f\" % max_rating,\n",
    "    \"min_rating:\\t%f\" % min_rating,\n",
    "    \"clusters\\t%f\" % total_clusters, sep='\\n'\n",
    ")"
   ]
  },
  {
   "cell_type": "markdown",
   "metadata": {},
   "source": [
    "# Reverse profiles\n",
    "This code will allow us to reverse user profiles in datasets for a target cluster/s. The idea is equivalent to opt-out where a user masks his identity behind false feedback that's not similar to his initial ratings."
   ]
  },
  {
   "cell_type": "code",
   "execution_count": null,
   "metadata": {},
   "outputs": [],
   "source": [
    "from helpers.dataset_helpers import flip_pofile_ratings\n",
    "\n",
    "target_clusters = [20, 21, 23, 24, 25, 26, 27, 28, 29, 30, 31]\n",
    "# total number of items to add per each genre (per user)\n",
    "N = 150\n",
    "# total number of users to consider for data addition (per cluster)\n",
    "users_thresh = 15\n",
    "\n",
    "new_ratings = flip_pofile_ratings(ratings_detailed, movies, target_clusters, N, users_thresh)\n",
    "# make sure the dataset is clean (no synthetic data duplicates)\n",
    "new_ratings.drop_duplicates(['userId', 'movieId'], inplace=True)\n",
    "new_ratings.to_csv('datasets/' + dataset_name + '/modified/ratings_genre_experiment.csv', index=False)"
   ]
  },
  {
   "cell_type": "markdown",
   "metadata": {},
   "source": [
    "# Random ratings\n",
    "This code will us to add random ratings for users in datasets."
   ]
  },
  {
   "cell_type": "code",
   "execution_count": 3,
   "metadata": {},
   "outputs": [],
   "source": [
    "from helpers.dataset_helpers import add_random_ratings\n",
    "\n",
    "# total number of random ratings to add per target user \n",
    "target_clusters = [4,5,6,7,8,9,10,20,30,35]\n",
    "N = 450\n",
    "# total number of users to consider for data addition (per cluster)\n",
    "users_thresh = 15\n",
    "\n",
    "new_ratings = add_random_ratings(ratings, clusters, target_clusters, N, users_thresh)\n",
    "# make sure the dataset is clean (no synthetic data duplicates)\n",
    "new_ratings.drop_duplicates(['userId', 'movieId'], inplace=True)\n",
    "new_ratings.to_csv('datasets/' + dataset_name + '/modified/ratings_random_experiment.csv', index=False)"
   ]
  },
  {
   "cell_type": "code",
   "execution_count": 4,
   "metadata": {},
   "outputs": [
    {
     "data": {
      "text/html": [
       "<div>\n",
       "<style scoped>\n",
       "    .dataframe tbody tr th:only-of-type {\n",
       "        vertical-align: middle;\n",
       "    }\n",
       "\n",
       "    .dataframe tbody tr th {\n",
       "        vertical-align: top;\n",
       "    }\n",
       "\n",
       "    .dataframe thead th {\n",
       "        text-align: right;\n",
       "    }\n",
       "</style>\n",
       "<table border=\"1\" class=\"dataframe\">\n",
       "  <thead>\n",
       "    <tr style=\"text-align: right;\">\n",
       "      <th></th>\n",
       "      <th>userId</th>\n",
       "      <th>movieId</th>\n",
       "      <th>rating</th>\n",
       "      <th>timestamp</th>\n",
       "    </tr>\n",
       "  </thead>\n",
       "  <tbody>\n",
       "    <tr>\n",
       "      <th>0</th>\n",
       "      <td>1</td>\n",
       "      <td>1</td>\n",
       "      <td>4.0</td>\n",
       "      <td>964982703</td>\n",
       "    </tr>\n",
       "    <tr>\n",
       "      <th>1</th>\n",
       "      <td>1</td>\n",
       "      <td>3</td>\n",
       "      <td>4.0</td>\n",
       "      <td>964981247</td>\n",
       "    </tr>\n",
       "    <tr>\n",
       "      <th>2</th>\n",
       "      <td>1</td>\n",
       "      <td>6</td>\n",
       "      <td>4.0</td>\n",
       "      <td>964982224</td>\n",
       "    </tr>\n",
       "    <tr>\n",
       "      <th>3</th>\n",
       "      <td>1</td>\n",
       "      <td>47</td>\n",
       "      <td>5.0</td>\n",
       "      <td>964983815</td>\n",
       "    </tr>\n",
       "    <tr>\n",
       "      <th>4</th>\n",
       "      <td>1</td>\n",
       "      <td>50</td>\n",
       "      <td>5.0</td>\n",
       "      <td>964982931</td>\n",
       "    </tr>\n",
       "    <tr>\n",
       "      <th>...</th>\n",
       "      <td>...</td>\n",
       "      <td>...</td>\n",
       "      <td>...</td>\n",
       "      <td>...</td>\n",
       "    </tr>\n",
       "    <tr>\n",
       "      <th>158659</th>\n",
       "      <td>584</td>\n",
       "      <td>8357</td>\n",
       "      <td>4.5</td>\n",
       "      <td>1212603770</td>\n",
       "    </tr>\n",
       "    <tr>\n",
       "      <th>158660</th>\n",
       "      <td>584</td>\n",
       "      <td>5727</td>\n",
       "      <td>3.0</td>\n",
       "      <td>1212603770</td>\n",
       "    </tr>\n",
       "    <tr>\n",
       "      <th>158661</th>\n",
       "      <td>584</td>\n",
       "      <td>6158</td>\n",
       "      <td>2.0</td>\n",
       "      <td>1212603770</td>\n",
       "    </tr>\n",
       "    <tr>\n",
       "      <th>158662</th>\n",
       "      <td>584</td>\n",
       "      <td>3519</td>\n",
       "      <td>1.5</td>\n",
       "      <td>1212603770</td>\n",
       "    </tr>\n",
       "    <tr>\n",
       "      <th>158663</th>\n",
       "      <td>584</td>\n",
       "      <td>4073</td>\n",
       "      <td>2.0</td>\n",
       "      <td>1212603770</td>\n",
       "    </tr>\n",
       "  </tbody>\n",
       "</table>\n",
       "<p>155804 rows × 4 columns</p>\n",
       "</div>"
      ],
      "text/plain": [
       "        userId  movieId  rating   timestamp\n",
       "0            1        1     4.0   964982703\n",
       "1            1        3     4.0   964981247\n",
       "2            1        6     4.0   964982224\n",
       "3            1       47     5.0   964983815\n",
       "4            1       50     5.0   964982931\n",
       "...        ...      ...     ...         ...\n",
       "158659     584     8357     4.5  1212603770\n",
       "158660     584     5727     3.0  1212603770\n",
       "158661     584     6158     2.0  1212603770\n",
       "158662     584     3519     1.5  1212603770\n",
       "158663     584     4073     2.0  1212603770\n",
       "\n",
       "[155804 rows x 4 columns]"
      ]
     },
     "execution_count": 4,
     "metadata": {},
     "output_type": "execute_result"
    }
   ],
   "source": [
    "new_ratings"
   ]
  }
 ],
 "metadata": {
  "kernelspec": {
   "display_name": "Python 3.8.13 64-bit ('group-validation')",
   "language": "python",
   "name": "python3"
  },
  "language_info": {
   "codemirror_mode": {
    "name": "ipython",
    "version": 3
   },
   "file_extension": ".py",
   "mimetype": "text/x-python",
   "name": "python",
   "nbconvert_exporter": "python",
   "pygments_lexer": "ipython3",
   "version": "3.8.13"
  },
  "orig_nbformat": 4,
  "vscode": {
   "interpreter": {
    "hash": "52445fb09f682e9366639e37a6414f541c6481f599d97ed36cba6ef55ea50917"
   }
  }
 },
 "nbformat": 4,
 "nbformat_minor": 2
}
