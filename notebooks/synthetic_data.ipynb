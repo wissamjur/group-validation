{
 "cells": [
  {
   "cell_type": "code",
   "execution_count": null,
   "metadata": {},
   "outputs": [],
   "source": [
    "import pandas as pd\n",
    "\n",
    "dataset = 'ml-latest-small'\n",
    "\n",
    "ratings = pd.read_csv('../datasets/' + dataset + '/ratings.csv')\n",
    "total_movies = len(list(set(ratings.movieId.to_list())))\n",
    "max_ratings = max(list(set(ratings.rating.to_list())))"
   ]
  },
  {
   "cell_type": "code",
   "execution_count": null,
   "metadata": {},
   "outputs": [],
   "source": [
    "from random import randrange\n",
    "\n",
    "# add random ratings to first user in cluster 0\n",
    "target_user = 601\n",
    "N = 350\n",
    "\n",
    "# user_ratings_df = ratings[ratings['userId'] == target_user]\n",
    "\n",
    "for n in range(N):\n",
    "    # new record to add\n",
    "    new_record = {\n",
    "        'userId': target_user,\n",
    "        'movieId': randrange(total_movies),\n",
    "        'rating': randrange(max_ratings),\n",
    "        'timestamp': 1212603770\n",
    "    }\n",
    "    # append row to the dataframe\n",
    "    ratings = ratings.append(new_record, ignore_index=True)"
   ]
  },
  {
   "cell_type": "code",
   "execution_count": null,
   "metadata": {},
   "outputs": [],
   "source": [
    "ratings"
   ]
  },
  {
   "cell_type": "code",
   "execution_count": null,
   "metadata": {},
   "outputs": [],
   "source": [
    "ratings.to_csv('../datasets/ml-latest-small/ratings_random.csv', index=False)"
   ]
  }
 ],
 "metadata": {
  "kernelspec": {
   "display_name": "Python 3.8.13 64-bit ('group-validation')",
   "language": "python",
   "name": "python3"
  },
  "language_info": {
   "codemirror_mode": {
    "name": "ipython",
    "version": 3
   },
   "file_extension": ".py",
   "mimetype": "text/x-python",
   "name": "python",
   "nbconvert_exporter": "python",
   "pygments_lexer": "ipython3",
   "version": "3.8.13"
  },
  "orig_nbformat": 4,
  "vscode": {
   "interpreter": {
    "hash": "52445fb09f682e9366639e37a6414f541c6481f599d97ed36cba6ef55ea50917"
   }
  }
 },
 "nbformat": 4,
 "nbformat_minor": 2
}
