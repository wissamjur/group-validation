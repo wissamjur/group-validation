{
 "cells": [
  {
   "cell_type": "markdown",
   "metadata": {},
   "source": [
    "This notebook is used to add synthetic data to datasets.\\\n",
    "The current implemented method is adding random ratings to a target user in a target cluster.\n",
    "\n",
    "We can take target users from a certain cluster based on the result of the previous notebook (clustering.ipynb) and use this code to generate random ratings for few users inside a given cluster. This simulates an opt-out (or any other data manipulation scenario) scenario."
   ]
  },
  {
   "cell_type": "code",
   "execution_count": 1,
   "metadata": {},
   "outputs": [],
   "source": [
    "import os\n",
    "\n",
    "# change dir for custom imports\n",
    "os.chdir('../')"
   ]
  },
  {
   "cell_type": "code",
   "execution_count": 2,
   "metadata": {},
   "outputs": [
    {
     "name": "stdout",
     "output_type": "stream",
     "text": [
      "total_movies:\t9633.000000\n",
      "total_ratings:\t93812.000000\n",
      "max_rating:\t5.000000\n",
      "min_rating:\t0.500000\n",
      "clusters\t50.000000\n"
     ]
    }
   ],
   "source": [
    "import pandas as pd\n",
    "\n",
    "dataset_name = 'ml-latest-small'\n",
    "\n",
    "ratings = pd.read_csv('datasets/' + dataset_name + '/clean/ratings.csv')\n",
    "movies = pd.read_csv('datasets/' + dataset_name + '/movies.csv', encoding='latin-1')\n",
    "clusters = pd.read_csv('output/' + dataset_name + '/clusters.csv')\n",
    "\n",
    "ratings_detailed = pd.merge(ratings, movies, how='inner', on='movieId').sort_values(by='userId')\n",
    "ratings_detailed = pd.merge(ratings_detailed, clusters, how='inner', on=['userId', 'movieId', 'rating', 'timestamp'])\n",
    "\n",
    "total_movies = len(list(set(ratings.movieId.to_list())))\n",
    "max_rating = max(list(set(ratings.rating.to_list())))\n",
    "min_rating = min(list(set(ratings.rating.to_list())))\n",
    "total_clusters = len(set(clusters.cluster.to_list()))\n",
    "total_ratings = len(ratings)\n",
    "\n",
    "print(\n",
    "    \"total_movies:\\t%f\" % total_movies,\n",
    "    \"total_ratings:\\t%f\" % total_ratings,\n",
    "    \"max_rating:\\t%f\" % max_rating,\n",
    "    \"min_rating:\\t%f\" % min_rating,\n",
    "    \"clusters\\t%f\" % total_clusters, sep='\\n'\n",
    ")"
   ]
  },
  {
   "cell_type": "markdown",
   "metadata": {},
   "source": [
    "# Reverse profiles\n",
    "This code will allow us to reverse user profiles in datasets for a target cluster/s. The idea is equivalent to opt-out where a user masks his identity behind false feedback that's not similar to his initial ratings."
   ]
  },
  {
   "cell_type": "code",
   "execution_count": null,
   "metadata": {},
   "outputs": [],
   "source": [
    "from helpers.dataset_helpers import flip_pofile_ratings\n",
    "\n",
    "target_clusters = [50, 51, 52, 52, 54]\n",
    "# total number of items to add per each genre (per user)\n",
    "N = 150\n",
    "# total number of users to consider for data addition (per cluster)\n",
    "users_thresh = 15\n",
    "\n",
    "new_ratings = flip_pofile_ratings(ratings_detailed, movies, target_clusters, N, users_thresh)\n",
    "new_ratings.to_csv('datasets/' + dataset_name + '/modified/ratings_genre_experiment.csv', index=False)"
   ]
  },
  {
   "cell_type": "markdown",
   "metadata": {},
   "source": [
    "# Random ratings\n",
    "This code will us to add random ratings for users in datasets."
   ]
  },
  {
   "cell_type": "code",
   "execution_count": 3,
   "metadata": {},
   "outputs": [],
   "source": [
    "from helpers.dataset_helpers import add_random_ratings\n",
    "\n",
    "# total number of random ratings to add per target user \n",
    "target_clusters = [20,21,22,23,24,25,26,27,28,29,30]\n",
    "N = 3000\n",
    "# total number of users to consider for data addition (per cluster)\n",
    "users_thresh = 15\n",
    "\n",
    "new_ratings = add_random_ratings(ratings, clusters, target_clusters, N, users_thresh)\n",
    "# make sure the dataset is clean (no synthetic data duplicates)\n",
    "new_ratings.drop_duplicates(['userId', 'movieId'], inplace=True)\n",
    "new_ratings.to_csv('datasets/' + dataset_name + '/modified/ratings_random_experiment.csv', index=False)"
   ]
  }
 ],
 "metadata": {
  "kernelspec": {
   "display_name": "Python 3.8.13 64-bit ('group-validation')",
   "language": "python",
   "name": "python3"
  },
  "language_info": {
   "codemirror_mode": {
    "name": "ipython",
    "version": 3
   },
   "file_extension": ".py",
   "mimetype": "text/x-python",
   "name": "python",
   "nbconvert_exporter": "python",
   "pygments_lexer": "ipython3",
   "version": "3.8.13"
  },
  "orig_nbformat": 4,
  "vscode": {
   "interpreter": {
    "hash": "52445fb09f682e9366639e37a6414f541c6481f599d97ed36cba6ef55ea50917"
   }
  }
 },
 "nbformat": 4,
 "nbformat_minor": 2
}
