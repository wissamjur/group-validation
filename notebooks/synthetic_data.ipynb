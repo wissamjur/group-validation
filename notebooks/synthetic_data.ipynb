{
 "cells": [
  {
   "cell_type": "markdown",
   "metadata": {},
   "source": [
    "This notebook is used to add synthetic data to datasets.\\\n",
    "The current implemented method is adding random ratings to a target user in a target cluster.\n",
    "\n",
    "We can take target users from a certain cluster based on the result of the previous notebook (clustering.ipynb) and use this code to generate random ratings for few users inside a given cluster. This simulates an opt-out (or any other data manipulation scenario) scenario."
   ]
  },
  {
   "cell_type": "code",
   "execution_count": 1,
   "metadata": {},
   "outputs": [],
   "source": [
    "import os\n",
    "\n",
    "# change dir for custom imports\n",
    "os.chdir('../')"
   ]
  },
  {
   "cell_type": "code",
   "execution_count": 2,
   "metadata": {},
   "outputs": [
    {
     "name": "stdout",
     "output_type": "stream",
     "text": [
      "total_movies:\t3689.000000\n",
      "total_ratings:\t943471.000000\n",
      "max_rating:\t5.000000\n",
      "min_rating:\t1.000000\n",
      "clusters\t100.000000\n"
     ]
    }
   ],
   "source": [
    "import pandas as pd\n",
    "\n",
    "dataset_name = 'ml-1m'\n",
    "\n",
    "ratings = pd.read_csv('datasets/' + dataset_name + '/clean/ratings.csv')\n",
    "movies = pd.read_csv('datasets/' + dataset_name + '/movies.csv', encoding='latin-1')\n",
    "clusters = pd.read_csv('output/' + dataset_name + '/clusters.csv')\n",
    "\n",
    "ratings_detailed = pd.merge(ratings, movies, how='inner', on='movieId').sort_values(by='userId')\n",
    "ratings_detailed = pd.merge(ratings_detailed, clusters, how='inner', on=['userId', 'movieId', 'rating', 'timestamp'])\n",
    "\n",
    "total_movies = len(list(set(ratings.movieId.to_list())))\n",
    "max_rating = max(list(set(ratings.rating.to_list())))\n",
    "min_rating = min(list(set(ratings.rating.to_list())))\n",
    "total_clusters = len(set(clusters.cluster.to_list()))\n",
    "total_ratings = len(ratings)\n",
    "\n",
    "print(\n",
    "    \"total_movies:\\t%f\" % total_movies,\n",
    "    \"total_ratings:\\t%f\" % total_ratings,\n",
    "    \"max_rating:\\t%f\" % max_rating,\n",
    "    \"min_rating:\\t%f\" % min_rating,\n",
    "    \"clusters\\t%f\" % total_clusters, sep='\\n'\n",
    ")"
   ]
  },
  {
   "cell_type": "markdown",
   "metadata": {},
   "source": [
    "# Reverse profiles\n",
    "This code will allow us to reverse user profiles in datasets for a target cluster/s. The idea is equivalent to opt-out where a user masks his identity behind false feedback that's not similar to his initial ratings."
   ]
  },
  {
   "cell_type": "code",
   "execution_count": null,
   "metadata": {},
   "outputs": [],
   "source": [
    "from helpers.dataset_helpers import flip_pofile_ratings\n",
    "\n",
    "target_clusters = [4, 6]\n",
    "# total number of items to add per each genre (per user)\n",
    "N = 200\n",
    "# total number of users to consider for data addition (per cluster)\n",
    "users_thresh = 15\n",
    "\n",
    "new_ratings = flip_pofile_ratings(ratings_detailed, movies, target_clusters, N, users_thresh)\n",
    "# make sure the dataset is clean (no synthetic data duplicates)\n",
    "new_ratings.drop_duplicates(['userId', 'movieId'], inplace=True)\n",
    "new_ratings.to_csv('datasets/' + dataset_name + '/modified/ratings_genre_experiment.csv', index=False)"
   ]
  },
  {
   "cell_type": "code",
   "execution_count": null,
   "metadata": {},
   "outputs": [],
   "source": [
    "new_ratings"
   ]
  },
  {
   "cell_type": "markdown",
   "metadata": {},
   "source": [
    "# Random ratings\n",
    "This code will us to add random ratings for users in datasets."
   ]
  },
  {
   "cell_type": "code",
   "execution_count": 3,
   "metadata": {},
   "outputs": [],
   "source": [
    "from helpers.dataset_helpers import add_random_ratings\n",
    "\n",
    "# total number of random ratings to add per target user \n",
    "target_clusters = [6,8,9,10,12,16,28,20,22,26,30]\n",
    "N = 250\n",
    "# total number of users to consider for data addition (per cluster)\n",
    "users_thresh = 15\n",
    "\n",
    "new_ratings = add_random_ratings(ratings, clusters, target_clusters, N, users_thresh)\n",
    "# make sure the dataset is clean (no synthetic data duplicates)\n",
    "new_ratings.drop_duplicates(['userId', 'movieId'], inplace=True)\n",
    "new_ratings.to_csv('datasets/' + dataset_name + '/modified/ratings_random_experiment.csv', index=False)"
   ]
  },
  {
   "cell_type": "code",
   "execution_count": 4,
   "metadata": {},
   "outputs": [
    {
     "data": {
      "text/html": [
       "<div>\n",
       "<style scoped>\n",
       "    .dataframe tbody tr th:only-of-type {\n",
       "        vertical-align: middle;\n",
       "    }\n",
       "\n",
       "    .dataframe tbody tr th {\n",
       "        vertical-align: top;\n",
       "    }\n",
       "\n",
       "    .dataframe thead th {\n",
       "        text-align: right;\n",
       "    }\n",
       "</style>\n",
       "<table border=\"1\" class=\"dataframe\">\n",
       "  <thead>\n",
       "    <tr style=\"text-align: right;\">\n",
       "      <th></th>\n",
       "      <th>userId</th>\n",
       "      <th>movieId</th>\n",
       "      <th>rating</th>\n",
       "      <th>timestamp</th>\n",
       "    </tr>\n",
       "  </thead>\n",
       "  <tbody>\n",
       "    <tr>\n",
       "      <th>0</th>\n",
       "      <td>1</td>\n",
       "      <td>1193</td>\n",
       "      <td>5</td>\n",
       "      <td>978300760</td>\n",
       "    </tr>\n",
       "    <tr>\n",
       "      <th>1</th>\n",
       "      <td>1</td>\n",
       "      <td>661</td>\n",
       "      <td>3</td>\n",
       "      <td>978302109</td>\n",
       "    </tr>\n",
       "    <tr>\n",
       "      <th>2</th>\n",
       "      <td>1</td>\n",
       "      <td>914</td>\n",
       "      <td>3</td>\n",
       "      <td>978301968</td>\n",
       "    </tr>\n",
       "    <tr>\n",
       "      <th>3</th>\n",
       "      <td>1</td>\n",
       "      <td>3408</td>\n",
       "      <td>4</td>\n",
       "      <td>978300275</td>\n",
       "    </tr>\n",
       "    <tr>\n",
       "      <th>4</th>\n",
       "      <td>1</td>\n",
       "      <td>2355</td>\n",
       "      <td>5</td>\n",
       "      <td>978824291</td>\n",
       "    </tr>\n",
       "    <tr>\n",
       "      <th>...</th>\n",
       "      <td>...</td>\n",
       "      <td>...</td>\n",
       "      <td>...</td>\n",
       "      <td>...</td>\n",
       "    </tr>\n",
       "    <tr>\n",
       "      <th>980273</th>\n",
       "      <td>2643</td>\n",
       "      <td>435</td>\n",
       "      <td>3</td>\n",
       "      <td>1212603770</td>\n",
       "    </tr>\n",
       "    <tr>\n",
       "      <th>980274</th>\n",
       "      <td>2643</td>\n",
       "      <td>2698</td>\n",
       "      <td>3</td>\n",
       "      <td>1212603770</td>\n",
       "    </tr>\n",
       "    <tr>\n",
       "      <th>980275</th>\n",
       "      <td>2643</td>\n",
       "      <td>1990</td>\n",
       "      <td>1</td>\n",
       "      <td>1212603770</td>\n",
       "    </tr>\n",
       "    <tr>\n",
       "      <th>980276</th>\n",
       "      <td>2643</td>\n",
       "      <td>147</td>\n",
       "      <td>3</td>\n",
       "      <td>1212603770</td>\n",
       "    </tr>\n",
       "    <tr>\n",
       "      <th>980277</th>\n",
       "      <td>2643</td>\n",
       "      <td>1974</td>\n",
       "      <td>4</td>\n",
       "      <td>1212603770</td>\n",
       "    </tr>\n",
       "  </tbody>\n",
       "</table>\n",
       "<p>977913 rows × 4 columns</p>\n",
       "</div>"
      ],
      "text/plain": [
       "        userId  movieId  rating   timestamp\n",
       "0            1     1193       5   978300760\n",
       "1            1      661       3   978302109\n",
       "2            1      914       3   978301968\n",
       "3            1     3408       4   978300275\n",
       "4            1     2355       5   978824291\n",
       "...        ...      ...     ...         ...\n",
       "980273    2643      435       3  1212603770\n",
       "980274    2643     2698       3  1212603770\n",
       "980275    2643     1990       1  1212603770\n",
       "980276    2643      147       3  1212603770\n",
       "980277    2643     1974       4  1212603770\n",
       "\n",
       "[977913 rows x 4 columns]"
      ]
     },
     "execution_count": 4,
     "metadata": {},
     "output_type": "execute_result"
    }
   ],
   "source": [
    "new_ratings"
   ]
  }
 ],
 "metadata": {
  "kernelspec": {
   "display_name": "group-validation",
   "language": "python",
   "name": "python3"
  },
  "language_info": {
   "codemirror_mode": {
    "name": "ipython",
    "version": 3
   },
   "file_extension": ".py",
   "mimetype": "text/x-python",
   "name": "python",
   "nbconvert_exporter": "python",
   "pygments_lexer": "ipython3",
   "version": "3.9.0"
  },
  "orig_nbformat": 4,
  "vscode": {
   "interpreter": {
    "hash": "e4bfbead4e2efcc94ee2a715a30957ed380184240733e2fa0165fb50dafa7065"
   }
  }
 },
 "nbformat": 4,
 "nbformat_minor": 2
}
