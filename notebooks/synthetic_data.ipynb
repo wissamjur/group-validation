{
 "cells": [
  {
   "cell_type": "markdown",
   "metadata": {},
   "source": [
    "This notebook is used to add synthetic data to datasets.\\\n",
    "The current implemented method is adding random ratings to a target user.\\\n",
    "\n",
    "We can take target users from a certain cluster based on the result of the previous notebook (clustering.ipynb) and use this code to generate random ratings to few users inside a certain cluster. This simulates an opt-out scenario."
   ]
  },
  {
   "cell_type": "code",
   "execution_count": 1,
   "metadata": {},
   "outputs": [],
   "source": [
    "import os\n",
    "import pandas as pd\n",
    "\n",
    "# change dir for custom imports\n",
    "os.chdir('../')\n",
    "\n",
    "dataset_name = 'ml-25m'\n",
    "\n",
    "ratings = pd.read_csv('datasets/' + dataset_name + '/shrunk/ratings_small_v2.csv')\n",
    "total_movies = len(list(set(ratings.movieId.to_list())))\n",
    "max_ratings = max(list(set(ratings.rating.to_list())))\n",
    "min_ratings = min(list(set(ratings.rating.to_list())))"
   ]
  },
  {
   "cell_type": "code",
   "execution_count": null,
   "metadata": {},
   "outputs": [],
   "source": [
    "import numpy as np\n",
    "\n",
    "# add random ratings to first user in cluster 0\n",
    "target_user = 2631\n",
    "N = 350\n",
    "\n",
    "# user_ratings_df = ratings[ratings['userId'] == target_user]\n",
    "\n",
    "for n in range(N):\n",
    "    # new record to add\n",
    "    new_record = {\n",
    "        'userId': target_user,\n",
    "        'movieId': np.random.choice(np.arange(1, total_movies, 1), size=1)[0],\n",
    "        'rating': np.random.choice(np.arange(1, 5, 0.5), size=1)[0],\n",
    "        'timestamp': 1212603770\n",
    "    }\n",
    "    # append row to the dataframe\n",
    "    ratings = ratings.append(new_record, ignore_index=True)"
   ]
  },
  {
   "cell_type": "code",
   "execution_count": null,
   "metadata": {},
   "outputs": [],
   "source": [
    "len(ratings)"
   ]
  },
  {
   "cell_type": "code",
   "execution_count": null,
   "metadata": {},
   "outputs": [],
   "source": [
    "ratings.to_csv('datasets/' + dataset_name + '/modified/ratings_random_experiment.csv', index=False)"
   ]
  }
 ],
 "metadata": {
  "kernelspec": {
   "display_name": "Python 3.8.13 64-bit ('group-validation')",
   "language": "python",
   "name": "python3"
  },
  "language_info": {
   "codemirror_mode": {
    "name": "ipython",
    "version": 3
   },
   "file_extension": ".py",
   "mimetype": "text/x-python",
   "name": "python",
   "nbconvert_exporter": "python",
   "pygments_lexer": "ipython3",
   "version": "3.8.13"
  },
  "orig_nbformat": 4,
  "vscode": {
   "interpreter": {
    "hash": "52445fb09f682e9366639e37a6414f541c6481f599d97ed36cba6ef55ea50917"
   }
  }
 },
 "nbformat": 4,
 "nbformat_minor": 2
}
