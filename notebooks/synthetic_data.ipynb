{
 "cells": [
  {
   "cell_type": "markdown",
   "metadata": {},
   "source": [
    "This notebook is used to add synthetic data to datasets.\\\n",
    "The current implemented method is adding random ratings to a target user in a target cluster.\n",
    "\n",
    "We can take target users from a certain cluster based on the result of the previous notebook (clustering.ipynb) and use this code to generate random ratings for few users inside a given cluster. This simulates an opt-out (or any other data manipulation scenario) scenario."
   ]
  },
  {
   "cell_type": "code",
   "execution_count": null,
   "metadata": {},
   "outputs": [],
   "source": [
    "import os\n",
    "\n",
    "# change dir for custom imports\n",
    "os.chdir('../')"
   ]
  },
  {
   "cell_type": "code",
   "execution_count": null,
   "metadata": {},
   "outputs": [],
   "source": [
    "import pandas as pd\n",
    "\n",
    "dataset_name = 'ml-latest-small'\n",
    "\n",
    "ratings = pd.read_csv('datasets/' + dataset_name + '/ratings.csv')\n",
    "movies = pd.read_csv('datasets/' + dataset_name + '/movies.csv')\n",
    "clusters = pd.read_csv('output/' + dataset_name + '/clusters.csv')\n",
    "\n",
    "ratings_detailed = pd.merge(ratings, movies, how='inner', on='movieId').sort_values(by='userId')\n",
    "ratings_detailed = pd.merge(ratings_detailed, clusters, how='inner', on=['userId', 'movieId', 'rating', 'timestamp'])\n",
    "\n",
    "total_movies = len(list(set(ratings.movieId.to_list())))\n",
    "max_ratings = max(list(set(ratings.rating.to_list())))\n",
    "min_ratings = min(list(set(ratings.rating.to_list())))"
   ]
  },
  {
   "cell_type": "code",
   "execution_count": null,
   "metadata": {},
   "outputs": [],
   "source": [
    "ratings_detailed"
   ]
  },
  {
   "cell_type": "code",
   "execution_count": null,
   "metadata": {},
   "outputs": [],
   "source": [
    "import numpy as np\n",
    "\n",
    "# add random ratings to first user in cluster 0\n",
    "target_user = 95\n",
    "N = 400\n",
    "\n",
    "for n in range(N):\n",
    "    random_movie_id = np.random.choice(np.arange(1, total_movies, 1), size=1)[0]\n",
    "    random_rating = np.random.choice(np.arange(1, 5, 0.5), size=1)[0]\n",
    "\n",
    "    # check if the random item has already been rated by the user. If yes, no random record will be added to avoid duplicate rating\n",
    "    x = ratings[(ratings['userId'] == target_user) & (ratings['movieId'] == random_movie_id)]\n",
    "    if len(x) == 1:\n",
    "        continue\n",
    "\n",
    "    # new record to add\n",
    "    new_record = {\n",
    "        'userId': target_user,\n",
    "        'movieId': random_movie_id,\n",
    "        'rating': random_rating,\n",
    "        'timestamp': 1212603770\n",
    "    }\n",
    "    # append row to the dataframe\n",
    "    ratings = ratings.append(new_record, ignore_index=True)"
   ]
  },
  {
   "cell_type": "code",
   "execution_count": null,
   "metadata": {},
   "outputs": [],
   "source": [
    "len(ratings)"
   ]
  },
  {
   "cell_type": "code",
   "execution_count": null,
   "metadata": {},
   "outputs": [],
   "source": [
    "ratings.to_csv('datasets/' + dataset_name + '/modified/ratings_random_experiment.csv', index=False)"
   ]
  }
 ],
 "metadata": {
  "kernelspec": {
   "display_name": "Python 3.8.13 64-bit ('group-validation')",
   "language": "python",
   "name": "python3"
  },
  "language_info": {
   "codemirror_mode": {
    "name": "ipython",
    "version": 3
   },
   "file_extension": ".py",
   "mimetype": "text/x-python",
   "name": "python",
   "nbconvert_exporter": "python",
   "pygments_lexer": "ipython3",
   "version": "3.8.13"
  },
  "orig_nbformat": 4,
  "vscode": {
   "interpreter": {
    "hash": "52445fb09f682e9366639e37a6414f541c6481f599d97ed36cba6ef55ea50917"
   }
  }
 },
 "nbformat": 4,
 "nbformat_minor": 2
}
